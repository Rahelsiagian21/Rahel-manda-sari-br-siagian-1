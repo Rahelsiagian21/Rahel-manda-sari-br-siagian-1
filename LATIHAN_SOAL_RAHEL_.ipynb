{
  "nbformat": 4,
  "nbformat_minor": 0,
  "metadata": {
    "colab": {
      "provenance": [],
      "authorship_tag": "ABX9TyP46ZP4Pj9Bs2mXuSUj2BWl",
      "include_colab_link": true
    },
    "kernelspec": {
      "name": "python3",
      "display_name": "Python 3"
    },
    "language_info": {
      "name": "python"
    }
  },
  "cells": [
    {
      "cell_type": "markdown",
      "metadata": {
        "id": "view-in-github",
        "colab_type": "text"
      },
      "source": [
        "<a href=\"https://colab.research.google.com/github/Rahelsiagian21/Rahel-manda-sari-br-siagian-1/blob/main/LATIHAN_SOAL_RAHEL_.ipynb\" target=\"_parent\"><img src=\"https://colab.research.google.com/assets/colab-badge.svg\" alt=\"Open In Colab\"/></a>"
      ]
    },
    {
      "cell_type": "markdown",
      "source": [
        "**SOAL NOMOR 1**"
      ],
      "metadata": {
        "id": "EsmLUEZAGI18"
      }
    },
    {
      "cell_type": "code",
      "execution_count": 4,
      "metadata": {
        "colab": {
          "base_uri": "https://localhost:8080/"
        },
        "id": "W3qvyTLcETQP",
        "outputId": "71155ea7-45ed-4d98-c2d4-fa03850be2b0"
      },
      "outputs": [
        {
          "output_type": "stream",
          "name": "stdout",
          "text": [
            "masukkan nama anda:RAHEL\n",
            "halo, RAHEL!,selamat belajar pyhton\n"
          ]
        }
      ],
      "source": [
        "\n",
        "nama = input (\"masukkan nama anda:\")\n",
        "print(f\"halo, {nama}!,selamat belajar pyhton\")"
      ]
    },
    {
      "cell_type": "markdown",
      "source": [
        "**SOAL NOMOR 2**\n",
        "\n",
        "---\n",
        "\n"
      ],
      "metadata": {
        "id": "97_lA2HaGMRb"
      }
    },
    {
      "cell_type": "code",
      "source": [
        "panjang= 5\n",
        "lebar = 3\n",
        "luas=panjang*lebar\n",
        "panjang=int(input(\"masukkan panjang:\"))\n",
        "lebar=int(input(\"masukkan lebar:\"))\n",
        "print(f\"luas persegi panjang adalah {luas}\")\n",
        "\n",
        "\n"
      ],
      "metadata": {
        "colab": {
          "base_uri": "https://localhost:8080/"
        },
        "id": "vyMPpBwTGQ-0",
        "outputId": "ec0149e6-d98b-4d1d-b2ad-23e6db856b1d"
      },
      "execution_count": 21,
      "outputs": [
        {
          "output_type": "stream",
          "name": "stdout",
          "text": [
            "masukkan panjang:5\n",
            "masukkan lebar:3\n",
            "luas persegi panjang adalah 15\n"
          ]
        }
      ]
    },
    {
      "cell_type": "markdown",
      "source": [
        "**SOAL NOMOR 3**"
      ],
      "metadata": {
        "id": "h3vF_4AhKeFK"
      }
    },
    {
      "cell_type": "code",
      "source": [
        "#meminta input bilangan bulat\n",
        "bilangan= int(input(\"masukkan bilangan bulat:\"))\n",
        "#menentukan apakah bilangan genap atau ganjil\n",
        "if bilangan % 2 == 0:\n",
        "  print(f\"{bilangan} adalah bilangan genap\")\n",
        "else:\n",
        "  print(f\"{bilangan} adalah bilangan ganjil\")"
      ],
      "metadata": {
        "colab": {
          "base_uri": "https://localhost:8080/"
        },
        "id": "f9V3w3rXIBw7",
        "outputId": "eed3ca33-f38c-4982-e308-f18187ddabe4"
      },
      "execution_count": 14,
      "outputs": [
        {
          "output_type": "stream",
          "name": "stdout",
          "text": [
            "masukkan bilangan bulat:7\n",
            "7 adalah bilangan ganjil\n"
          ]
        }
      ]
    },
    {
      "cell_type": "markdown",
      "source": [
        "**SOAL NOMOR 4**"
      ],
      "metadata": {
        "id": "cqM9HPjMKqIi"
      }
    },
    {
      "cell_type": "code",
      "source": [
        "#menambilkan deret bilangan dari 1 sampai 20\n",
        "for i in range(1,21):\n",
        "  print(i, end= \" \")"
      ],
      "metadata": {
        "colab": {
          "base_uri": "https://localhost:8080/"
        },
        "id": "VqxkzQWXLALI",
        "outputId": "4089d7fd-4691-4283-ba4d-b6f4815b14c9"
      },
      "execution_count": 24,
      "outputs": [
        {
          "output_type": "stream",
          "name": "stdout",
          "text": [
            "1 2 3 4 5 6 7 8 9 10 11 12 13 14 15 16 17 18 19 20 "
          ]
        }
      ]
    },
    {
      "cell_type": "markdown",
      "source": [
        "**SOAL NOMOR 5**"
      ],
      "metadata": {
        "id": "nIn15mUCNRG_"
      }
    },
    {
      "cell_type": "code",
      "source": [
        "#menghitung dua bilangan bulat dari pengguna\n",
        "a=int(input(\"masukkan bilangan bulat pertama:\"))\n",
        "b=int(input(\"masukkan bilangan bulat kedua:\"))\n",
        "for i in range(a,b+1):\n",
        "  jumlah = sum(range(a,b+1))\n",
        "print(f\"jumlah dari {a} sampai {b} adalah {jumlah}\")"
      ],
      "metadata": {
        "colab": {
          "base_uri": "https://localhost:8080/"
        },
        "id": "dRBoi1rcMxdh",
        "outputId": "938d6484-6ac0-4706-f4c5-f8b832dbeac4"
      },
      "execution_count": 30,
      "outputs": [
        {
          "output_type": "stream",
          "name": "stdout",
          "text": [
            "masukkan bilangan bulat pertama:3\n",
            "masukkan bilangan bulat kedua:7\n",
            "jumlah dari 3 sampai 7 adalah 25\n"
          ]
        }
      ]
    },
    {
      "cell_type": "markdown",
      "source": [
        "**SOAL NOMOR 6**"
      ],
      "metadata": {
        "id": "YY-8wUQqSpsd"
      }
    },
    {
      "cell_type": "code",
      "source": [
        "#masukkan dua bilangan bulat\n",
        "#mencetak semua bilangan genap di antara dua bilangan\n",
        "\n",
        "a=int(input(\"masukkan bilangan bulat pertama:\"))\n",
        "b=int(input(\"masukkan bilangan bulat kedua:\"))\n",
        "print(f\"bilangan genap di antara {a} dan {b} adalah:\")\n",
        "for i in range(a,b+1):\n",
        "  if i % 2 == 0:\n",
        "    print(i, end=\" \")\n"
      ],
      "metadata": {
        "colab": {
          "base_uri": "https://localhost:8080/"
        },
        "id": "77OAONboSuuN",
        "outputId": "d8e204ef-17c8-4ea0-aab1-a406988e8dcd"
      },
      "execution_count": 35,
      "outputs": [
        {
          "output_type": "stream",
          "name": "stdout",
          "text": [
            "masukkan bilangan bulat pertama:3\n",
            "masukkan bilangan bulat kedua:10\n",
            "bilangan genap di antara 3 dan 10 adalah:\n",
            "4 6 8 10 "
          ]
        }
      ]
    },
    {
      "cell_type": "markdown",
      "source": [
        "**SOAL NOMOR 7**"
      ],
      "metadata": {
        "id": "tkQSMnoDV2Vk"
      }
    },
    {
      "cell_type": "code",
      "source": [
        "#mencetk nilai dari array dalam urutan terbalik\n",
        "A=[5, 2, 8, 1]\n",
        "\n",
        "array_terbalik = [0] * len(A)\n",
        "\n",
        "for i in range (len(A)):\n",
        "  array_terbalik[len(A) - 1 - i] = A[i]\n",
        "\n",
        "  print(f\"array asli {A}\")\n",
        "  print(f\"array terbalik {array_terbalik}\")\n"
      ],
      "metadata": {
        "colab": {
          "base_uri": "https://localhost:8080/"
        },
        "id": "3dz7an1-V03j",
        "outputId": "ca175a53-a359-40da-f3a0-0a40bd512c3d"
      },
      "execution_count": 58,
      "outputs": [
        {
          "output_type": "stream",
          "name": "stdout",
          "text": [
            "array asli [5, 2, 8, 1]\n",
            "array terbalik [0, 0, 0, 5]\n",
            "array asli [5, 2, 8, 1]\n",
            "array terbalik [0, 0, 2, 5]\n",
            "array asli [5, 2, 8, 1]\n",
            "array terbalik [0, 8, 2, 5]\n",
            "array asli [5, 2, 8, 1]\n",
            "array terbalik [1, 8, 2, 5]\n"
          ]
        }
      ]
    },
    {
      "cell_type": "markdown",
      "source": [
        "**SOAL NOMOR 8**"
      ],
      "metadata": {
        "id": "B2K7lxCpYxYi"
      }
    },
    {
      "cell_type": "code",
      "source": [
        "#menentukan nilai bilangan prima\n",
        "angka = int(input(\"masukkan angka:\"))\n",
        "prima = True\n",
        "\n",
        "if angka < 2:\n",
        "  prima = False\n",
        "else :\n",
        "  for i in range(2, int(angka ** 0.5) + 1):\n",
        "    if (angka % i) == 0:\n",
        "      prima = False\n",
        "      break\n",
        "if prima :\n",
        "  print(f\"{angka} adalah bilangan prima\")\n",
        "else:\n",
        "  print(f\"{angka} bukan bilangan prima.\")"
      ],
      "metadata": {
        "colab": {
          "base_uri": "https://localhost:8080/"
        },
        "id": "b9FQmhEWY3h6",
        "outputId": "1734b5af-e94d-4638-dd27-5d735447fb9c"
      },
      "execution_count": 53,
      "outputs": [
        {
          "output_type": "stream",
          "name": "stdout",
          "text": [
            "masukkan angka:13\n",
            "13 adalah bilangan prima\n"
          ]
        }
      ]
    }
  ]
}