{
  "nbformat": 4,
  "nbformat_minor": 0,
  "metadata": {
    "colab": {
      "provenance": [],
      "authorship_tag": "ABX9TyMd7wHdh837gXph+rlHVBk8",
      "include_colab_link": true
    },
    "kernelspec": {
      "name": "python3",
      "display_name": "Python 3"
    },
    "language_info": {
      "name": "python"
    }
  },
  "cells": [
    {
      "cell_type": "markdown",
      "metadata": {
        "id": "view-in-github",
        "colab_type": "text"
      },
      "source": [
        "<a href=\"https://colab.research.google.com/github/Rahelsiagian21/Rahel-manda-sari-br-siagian-1/blob/main/Latihan_Rahel(3).ipynb\" target=\"_parent\"><img src=\"https://colab.research.google.com/assets/colab-badge.svg\" alt=\"Open In Colab\"/></a>"
      ]
    },
    {
      "cell_type": "code",
      "execution_count": 2,
      "metadata": {
        "colab": {
          "base_uri": "https://localhost:8080/"
        },
        "id": "QYOBrtIor_WP",
        "outputId": "52d9804e-19b3-44c8-cad0-c1864f01403f"
      },
      "outputs": [
        {
          "output_type": "stream",
          "name": "stdout",
          "text": [
            "Masukkan bilangan pertama (A): 6\n",
            "Masukkan bilangan kedua (B): 7\n",
            "Bilangan terbesar adalah B: 7\n"
          ]
        }
      ],
      "source": [
        "# Program untuk menentukan bilangan terbesar\n",
        "# Membaca masukan dari pengguna\n",
        "A = int(input(\"Masukkan bilangan pertama (A): \"))\n",
        "B = int(input(\"Masukkan bilangan kedua (B): \"))\n",
        "\n",
        "# Menentukan bilangan terbesar\n",
        "if A > B:\n",
        "    print(f\"Bilangan terbesar adalah A: {A}\")\n",
        "elif A < B:\n",
        "    print(f\"Bilangan terbesar adalah B: {B}\")\n",
        "else:\n",
        "    print(f\"Bilangan terbesar adalah A atau B: {A}\")"
      ]
    },
    {
      "cell_type": "code",
      "source": [
        "def hitung_hambatan_total(r1, r2, r3):\n",
        "    # Periksa apakah ada hambatan negatif\n",
        "    if r1 < 0 or r2 < 0 or r3 < 0:\n",
        "        return \"Hambatan total tidak bisa dihitung\"\n",
        "    else:\n",
        "        # Hitung total hambatan\n",
        "        rt = r1 + r2 + r3\n",
        "        return f\"Hambatan total (RT) adalah {rt} ohm\"\n",
        "\n",
        "# Input dari pengguna\n",
        "try:\n",
        "    r1 = float(input(\"Masukkan nilai R1 (ohm): \"))\n",
        "    r2 = float(input(\"Masukkan nilai R2 (ohm): \"))\n",
        "    r3 = float(input(\"Masukkan nilai R3 (ohm): \"))\n",
        "\n",
        "    # Cetak hasil\n",
        "    hasil = hitung_hambatan_total(r1, r2, r3)\n",
        "    print(hasil)\n",
        "except ValueError:\n",
        "    print(\"Masukkan nilai numerik yang valid.\")"
      ],
      "metadata": {
        "colab": {
          "base_uri": "https://localhost:8080/"
        },
        "id": "cvbBTccP10Yw",
        "outputId": "7a7985f4-e6bc-4e92-f3d8-6dd8917bb7f9"
      },
      "execution_count": 12,
      "outputs": [
        {
          "output_type": "stream",
          "name": "stdout",
          "text": [
            "Masukkan nilai R1 (ohm): 4\n",
            "Masukkan nilai R2 (ohm): 5\n",
            "Masukkan nilai R3 (ohm): 5\n",
            "Hambatan total (RT) adalah 14.0 ohm\n"
          ]
        }
      ]
    }
  ]
}