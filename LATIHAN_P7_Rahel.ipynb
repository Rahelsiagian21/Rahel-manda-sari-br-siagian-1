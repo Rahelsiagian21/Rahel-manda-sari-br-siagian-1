{
  "nbformat": 4,
  "nbformat_minor": 0,
  "metadata": {
    "colab": {
      "provenance": [],
      "authorship_tag": "ABX9TyMEIOq/AoM7Q7W71Ah6fmNQ",
      "include_colab_link": true
    },
    "kernelspec": {
      "name": "python3",
      "display_name": "Python 3"
    },
    "language_info": {
      "name": "python"
    }
  },
  "cells": [
    {
      "cell_type": "markdown",
      "metadata": {
        "id": "view-in-github",
        "colab_type": "text"
      },
      "source": [
        "<a href=\"https://colab.research.google.com/github/Rahelsiagian21/Rahel-manda-sari-br-siagian-1/blob/main/LATIHAN_P7_Rahel.ipynb\" target=\"_parent\"><img src=\"https://colab.research.google.com/assets/colab-badge.svg\" alt=\"Open In Colab\"/></a>"
      ]
    },
    {
      "cell_type": "code",
      "source": [
        "\n",
        "#menghitung kelipatan 5\n",
        "jumlah_kelipatan_5 = 0\n",
        "N=100\n",
        "for i in range(1, 101):\n",
        "    if i % 5 == 0:\n",
        "        jumlah_kelipatan_5 += i\n",
        "        print(i)\n",
        "print(\"jumlah kelipatan 5 antara 1 s.d.N adalah\",((i+5)*20/2))\n",
        "\n"
      ],
      "metadata": {
        "colab": {
          "base_uri": "https://localhost:8080/"
        },
        "id": "w-D6aGGuECIB",
        "outputId": "5f9c2920-8e14-4cca-8efe-8ef042759214"
      },
      "execution_count": 61,
      "outputs": [
        {
          "output_type": "stream",
          "name": "stdout",
          "text": [
            "5\n",
            "10\n",
            "15\n",
            "20\n",
            "25\n",
            "30\n",
            "35\n",
            "40\n",
            "45\n",
            "50\n",
            "55\n",
            "60\n",
            "65\n",
            "70\n",
            "75\n",
            "80\n",
            "85\n",
            "90\n",
            "95\n",
            "100\n",
            "jumlah kelipatan 5 antara 1 s.d.N adalah 1050.0\n"
          ]
        }
      ]
    },
    {
      "cell_type": "code",
      "source": [
        "\n",
        "def lagu_anak_ayam_for(n):\n",
        "    for i in range(n, 0, -1):\n",
        "        if i > 1:\n",
        "            print(f\"Anak ayam turunlah {i}, mati satu tinggallah {i-1}\")\n",
        "        else:\n",
        "            print(f\"Anak ayam turunlah {i}, mati satu tinggal induknya\")\n",
        "\n",
        "# Contoh pemanggilan fungsi\n",
        "lagu_anak_ayam_for(5)"
      ],
      "metadata": {
        "colab": {
          "base_uri": "https://localhost:8080/"
        },
        "id": "J1xvzhsLZmRm",
        "outputId": "a179387d-4848-4a77-c819-f7f99d5d27ad"
      },
      "execution_count": 57,
      "outputs": [
        {
          "output_type": "stream",
          "name": "stdout",
          "text": [
            "Anak ayam turunlah 5, mati satu tinggallah 4\n",
            "Anak ayam turunlah 4, mati satu tinggallah 3\n",
            "Anak ayam turunlah 3, mati satu tinggallah 2\n",
            "Anak ayam turunlah 2, mati satu tinggallah 1\n",
            "Anak ayam turunlah 1, mati satu tinggal induknya\n"
          ]
        }
      ]
    },
    {
      "cell_type": "code",
      "source": [
        "def lagu_anak_ayam_while(n):\n",
        "    while n > 0:\n",
        "        if n > 1:\n",
        "            print(f\"Anak ayam turunlah {n}, mati satu tinggallah {n-1}\")\n",
        "        else:\n",
        "            print(f\"Anak ayam turunlah {n}, mati satu tinggal induknya\")\n",
        "        n -= 1\n",
        "\n",
        "# Contoh pemanggilan fungsi\n",
        "lagu_anak_ayam_while(5)"
      ],
      "metadata": {
        "colab": {
          "base_uri": "https://localhost:8080/"
        },
        "id": "TTHUk2NtZ0a4",
        "outputId": "8cd3ffef-c07c-4de0-d2e8-ccbba0377f5d"
      },
      "execution_count": 58,
      "outputs": [
        {
          "output_type": "stream",
          "name": "stdout",
          "text": [
            "Anak ayam turunlah 5, mati satu tinggallah 4\n",
            "Anak ayam turunlah 4, mati satu tinggallah 3\n",
            "Anak ayam turunlah 3, mati satu tinggallah 2\n",
            "Anak ayam turunlah 2, mati satu tinggallah 1\n",
            "Anak ayam turunlah 1, mati satu tinggal induknya\n"
          ]
        }
      ]
    },
    {
      "cell_type": "code",
      "source": [
        "def lagu_anak_ayam_format(n):\n",
        "    for i in range(n, 0, -1):\n",
        "        print(f\"Anak ayam turunlah {i}, mati satu tinggallah {i-1 if i > 1 else 'induknya'}\")\n",
        "\n",
        "# Contoh pemanggilan fungsi\n",
        "lagu_anak_ayam_format(5)"
      ],
      "metadata": {
        "colab": {
          "base_uri": "https://localhost:8080/"
        },
        "id": "sKLaq81PaJM5",
        "outputId": "e58785dc-f85d-4318-8fe3-41531f83db8d"
      },
      "execution_count": 49,
      "outputs": [
        {
          "output_type": "stream",
          "name": "stdout",
          "text": [
            "Anak ayam turunlah 5, mati satu tinggallah 4\n",
            "Anak ayam turunlah 4, mati satu tinggallah 3\n",
            "Anak ayam turunlah 3, mati satu tinggallah 2\n",
            "Anak ayam turunlah 2, mati satu tinggallah 1\n",
            "Anak ayam turunlah 1, mati satu tinggallah induknya\n"
          ]
        }
      ]
    }
  ]
}