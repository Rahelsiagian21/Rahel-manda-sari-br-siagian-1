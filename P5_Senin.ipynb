{
  "nbformat": 4,
  "nbformat_minor": 0,
  "metadata": {
    "colab": {
      "provenance": [],
      "authorship_tag": "ABX9TyNsttF6Fbeb8vaNwypDpYco",
      "include_colab_link": true
    },
    "kernelspec": {
      "name": "python3",
      "display_name": "Python 3"
    },
    "language_info": {
      "name": "python"
    }
  },
  "cells": [
    {
      "cell_type": "markdown",
      "metadata": {
        "id": "view-in-github",
        "colab_type": "text"
      },
      "source": [
        "<a href=\"https://colab.research.google.com/github/Rahelsiagian21/Rahel-manda-sari-br-siagian-1/blob/main/P5_Senin.ipynb\" target=\"_parent\"><img src=\"https://colab.research.google.com/assets/colab-badge.svg\" alt=\"Open In Colab\"/></a>"
      ]
    },
    {
      "cell_type": "code",
      "execution_count": 3,
      "metadata": {
        "colab": {
          "base_uri": "https://localhost:8080/"
        },
        "id": "ekL7Jfj8y_pV",
        "outputId": "1bb87da6-f0b3-4c78-eb17-dbcc3209c0ee"
      },
      "outputs": [
        {
          "output_type": "stream",
          "name": "stdout",
          "text": [
            "Hello, World!\n"
          ]
        }
      ],
      "source": [
        "#Program HelloWorld\n",
        "#Mencetak Hello, World ke layar\n",
        "\n",
        "#KAMUS\n",
        "#belum diperlukan\n",
        "\n",
        "#ALGORITMA\n",
        "print(\"Hello, World!\")"
      ]
    },
    {
      "cell_type": "code",
      "source": [
        "#Program Test\n",
        "#Spesifikasi : Menghitung nilai A dan B\n",
        "\n",
        "#KAMUS\n",
        "#A : int\n",
        "#B : int\n",
        "\n",
        "# ALGORITMA\n",
        "A = int(input('Masukkan nilai A'))      #input\n",
        "B = int(input('Masukkan nilai B'))\n",
        "\n",
        "A = A+B               #proses\n",
        "\n",
        "\n",
        "print(A)              #output\n",
        "print(B)\n"
      ],
      "metadata": {
        "colab": {
          "base_uri": "https://localhost:8080/"
        },
        "id": "iKZk8OFW0tpn",
        "outputId": "2cd8879a-51ee-42c4-852f-12cdc7dd7b6d"
      },
      "execution_count": 10,
      "outputs": [
        {
          "output_type": "stream",
          "name": "stdout",
          "text": [
            "Masukkan nilai A6\n",
            "Masukkan nilai B9\n",
            "15\n",
            "9\n"
          ]
        }
      ]
    },
    {
      "cell_type": "code",
      "source": [
        "#Menghitung berapa yang harus di bayar anak itu\n",
        "#KAMUS\n",
        "# int M\n",
        "# int H\n",
        "# int K\n",
        "\n",
        "#ALGORITMA\n",
        "M =int(input(\"NILAI M: \"))\n",
        "H =int(input(\"NILAI H: \"))\n",
        "K =int(input(\"NILAI K: \"))\n",
        "\n",
        "m = 10\n",
        "h = 15\n",
        "k = 20\n",
        "\n",
        "total_harga = (M*m) +  (H*h) +(K*k)\n",
        "\n",
        "print(\"Jumlah yang harus dibayarkan adalah\", total_harga, \"Rupiah\")"
      ],
      "metadata": {
        "colab": {
          "base_uri": "https://localhost:8080/"
        },
        "id": "dyg7mTyI9wNl",
        "outputId": "fb9b8027-4bae-47a3-b8b9-4016421cdabe"
      },
      "execution_count": 24,
      "outputs": [
        {
          "output_type": "stream",
          "name": "stdout",
          "text": [
            "NILAI M: 10\n",
            "NILAI H: 20\n",
            "NILAI K: 30\n",
            "Jumlah yang harus dibayarkan adalah 1000 Rupiah\n"
          ]
        }
      ]
    },
    {
      "cell_type": "code",
      "source": [
        "print(\"Hello World\")"
      ],
      "metadata": {
        "colab": {
          "base_uri": "https://localhost:8080/"
        },
        "id": "qhC1uwa6GrGk",
        "outputId": "d5de82b5-f694-4728-969d-09a8efd6f7f5"
      },
      "execution_count": 26,
      "outputs": [
        {
          "output_type": "stream",
          "name": "stdout",
          "text": [
            "Hello World\n"
          ]
        }
      ]
    },
    {
      "cell_type": "markdown",
      "source": [],
      "metadata": {
        "id": "WLB9prAG0sbm"
      }
    }
  ]
}