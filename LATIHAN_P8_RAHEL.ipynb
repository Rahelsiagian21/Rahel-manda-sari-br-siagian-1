{
  "nbformat": 4,
  "nbformat_minor": 0,
  "metadata": {
    "colab": {
      "provenance": [],
      "authorship_tag": "ABX9TyOs5wM3Ou7P/4YME2TPJhmN",
      "include_colab_link": true
    },
    "kernelspec": {
      "name": "python3",
      "display_name": "Python 3"
    },
    "language_info": {
      "name": "python"
    }
  },
  "cells": [
    {
      "cell_type": "markdown",
      "metadata": {
        "id": "view-in-github",
        "colab_type": "text"
      },
      "source": [
        "<a href=\"https://colab.research.google.com/github/Rahelsiagian21/Rahel-manda-sari-br-siagian-1/blob/main/LATIHAN_P8_RAHEL.ipynb\" target=\"_parent\"><img src=\"https://colab.research.google.com/assets/colab-badge.svg\" alt=\"Open In Colab\"/></a>"
      ]
    },
    {
      "cell_type": "markdown",
      "source": [
        "**SOAL NOMOR 1**"
      ],
      "metadata": {
        "id": "8Rp7AP5VM9pd"
      }
    },
    {
      "cell_type": "code",
      "execution_count": 24,
      "metadata": {
        "colab": {
          "base_uri": "https://localhost:8080/"
        },
        "id": "7lLb7SFj7sne",
        "outputId": "abd29789-a925-4de2-a79f-69af0be38066"
      },
      "outputs": [
        {
          "output_type": "stream",
          "name": "stdout",
          "text": [
            "array setelah dikaliakn dengan D: [8, 2, -2, 20, 0, 24]\n"
          ]
        }
      ],
      "source": [
        "S = [4, 1, -1, 10, 0, 12]\n",
        "\n",
        "D = 2\n",
        "\n",
        "S =[x * D for x in S]\n",
        "\n",
        "print(\"array setelah dikaliakn dengan D:\", S)\n",
        "\n"
      ]
    },
    {
      "cell_type": "markdown",
      "source": [
        "**SOAL NOMOR 2**"
      ],
      "metadata": {
        "id": "9oZaBaw5NFJM"
      }
    },
    {
      "cell_type": "code",
      "source": [
        "#program untuk menacri nilai terbesar dari elemen array\n",
        "\n",
        "#masukkan elemen array T\n",
        "T= [9,12,30,-1,0,4,-1,3,30,14]\n",
        "nilai_terbesar = max(T)\n",
        "print(\"nilai terbesar daru elemen array T adalah:\", nilai_terbesar)"
      ],
      "metadata": {
        "colab": {
          "base_uri": "https://localhost:8080/"
        },
        "id": "EP05ts1ALkQl",
        "outputId": "23435f23-0106-475d-af39-fc520d20250d"
      },
      "execution_count": 22,
      "outputs": [
        {
          "output_type": "stream",
          "name": "stdout",
          "text": [
            "nilai terbesar daru elemen array T adalah: 30\n"
          ]
        }
      ]
    }
  ]
}