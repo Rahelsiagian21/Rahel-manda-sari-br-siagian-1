{
  "nbformat": 4,
  "nbformat_minor": 0,
  "metadata": {
    "colab": {
      "provenance": [],
      "authorship_tag": "ABX9TyPieWuUAqKFhwERecgElng1",
      "include_colab_link": true
    },
    "kernelspec": {
      "name": "python3",
      "display_name": "Python 3"
    },
    "language_info": {
      "name": "python"
    }
  },
  "cells": [
    {
      "cell_type": "markdown",
      "metadata": {
        "id": "view-in-github",
        "colab_type": "text"
      },
      "source": [
        "<a href=\"https://colab.research.google.com/github/Rahelsiagian21/Rahel-manda-sari-br-siagian-1/blob/main/LATIHAN_P8_RAHEL.ipynb\" target=\"_parent\"><img src=\"https://colab.research.google.com/assets/colab-badge.svg\" alt=\"Open In Colab\"/></a>"
      ]
    },
    {
      "cell_type": "markdown",
      "source": [
        "**SOAL NOMOR 1**"
      ],
      "metadata": {
        "id": "8Rp7AP5VM9pd"
      }
    },
    {
      "cell_type": "code",
      "execution_count": null,
      "metadata": {
        "colab": {
          "base_uri": "https://localhost:8080/"
        },
        "id": "7lLb7SFj7sne",
        "outputId": "abd29789-a925-4de2-a79f-69af0be38066"
      },
      "outputs": [
        {
          "output_type": "stream",
          "name": "stdout",
          "text": [
            "array setelah dikaliakn dengan D: [8, 2, -2, 20, 0, 24]\n"
          ]
        }
      ],
      "source": [
        "S = [4, 1, -1, 10, 0, 12]\n",
        "\n",
        "D = 2\n",
        "\n",
        "S =[x * D for x in S]\n",
        "\n",
        "print(\"array setelah dikaliakn dengan D:\", S)\n",
        "\n"
      ]
    },
    {
      "cell_type": "markdown",
      "source": [
        "**SOAL NOMOR 2**"
      ],
      "metadata": {
        "id": "9oZaBaw5NFJM"
      }
    },
    {
      "cell_type": "code",
      "source": [
        "#program untuk mencari nilai terbesar dari elemen array\n",
        "\n",
        "#masukkan elemen array T\n",
        "T1= [9,12,30,-1,0,4,-1,3,30,14]\n",
        "nilai_terbesar = max(T1)\n",
        "nilai_terkecil = min(T1)\n",
        "print(\"nilai terbesar dari elemen array T1 adalah:\", nilai_terbesar)\n",
        "print(\"nilai terkecil dari elemen array T1 adalah:\", nilai_terkecil)\n",
        "\n",
        "#masukkan elemen array T\n",
        "T2=[1,3,5,8,-12,90,3,5]\n",
        "nilai_terbesar =max(T2)\n",
        "nilai_terkecil =min(T2)\n",
        "print(\"nilai terbesar dari elemen array T2 adalah:\", nilai_terbesar)\n",
        "print(\"nilai terkecil dari elemen array T2 adalah:\", nilai_terkecil)"
      ],
      "metadata": {
        "colab": {
          "base_uri": "https://localhost:8080/"
        },
        "id": "EP05ts1ALkQl",
        "outputId": "d3669225-1a53-4bcf-f518-4fae222a117f"
      },
      "execution_count": 1,
      "outputs": [
        {
          "output_type": "stream",
          "name": "stdout",
          "text": [
            "nilai terbesar dari elemen array T1 adalah: 30\n",
            "nilai terkecil dari elemen array T1 adalah: -1\n",
            "nilai terbesar dari elemen array T2 adalah: 90\n",
            "nilai terkecil dari elemen array T2 adalah: -12\n"
          ]
        }
      ]
    }
  ]
}