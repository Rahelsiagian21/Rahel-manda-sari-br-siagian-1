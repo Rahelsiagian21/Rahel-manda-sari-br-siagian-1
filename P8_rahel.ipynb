{
  "nbformat": 4,
  "nbformat_minor": 0,
  "metadata": {
    "colab": {
      "provenance": [],
      "include_colab_link": true
    },
    "kernelspec": {
      "name": "python3",
      "display_name": "Python 3"
    },
    "language_info": {
      "name": "python"
    }
  },
  "cells": [
    {
      "cell_type": "markdown",
      "metadata": {
        "id": "view-in-github",
        "colab_type": "text"
      },
      "source": [
        "<a href=\"https://colab.research.google.com/github/Rahelsiagian21/Rahel-manda-sari-br-siagian-1/blob/main/P8_rahel.ipynb\" target=\"_parent\"><img src=\"https://colab.research.google.com/assets/colab-badge.svg\" alt=\"Open In Colab\"/></a>"
      ]
    },
    {
      "cell_type": "markdown",
      "source": [
        "**FUNDAMENTAL ARRAY**"
      ],
      "metadata": {
        "id": "wfgZxt5q_TzV"
      }
    },
    {
      "cell_type": "code",
      "execution_count": null,
      "metadata": {
        "id": "9TB1ZwTr_DYz"
      },
      "outputs": [],
      "source": [
        "arr = [10, 20, 30, 40]"
      ]
    },
    {
      "cell_type": "code",
      "source": [
        "list_numbers = [1, 2, 3, 4, 5]"
      ],
      "metadata": {
        "id": "Qye2YU0__OFZ"
      },
      "execution_count": null,
      "outputs": []
    },
    {
      "cell_type": "code",
      "source": [
        "list_numbers[0] = 100  # Mengubah elemen pertama menjadi 100"
      ],
      "metadata": {
        "id": "Fl3348wK_Rjh"
      },
      "execution_count": null,
      "outputs": []
    },
    {
      "cell_type": "markdown",
      "source": [
        "**MENDEKLARASIKAN ARRAY**"
      ],
      "metadata": {
        "id": "vu07k-Tj_cp9"
      }
    },
    {
      "cell_type": "code",
      "source": [
        "arr = [1, 2, 3, 4, 5]"
      ],
      "metadata": {
        "id": "Z7JTYURvCO49"
      },
      "execution_count": null,
      "outputs": []
    },
    {
      "cell_type": "code",
      "source": [
        "data = [1, 2, 3, 'hello', 5.5]  # array dengan elemen tipe berbeda"
      ],
      "metadata": {
        "id": "OKBRVSaA_f6u"
      },
      "execution_count": null,
      "outputs": []
    },
    {
      "cell_type": "code",
      "source": [
        "arr = [0] * 5  # Membuat array dengan 5 elemen, semua berisi 0"
      ],
      "metadata": {
        "id": "2b5ZTBRJ_isp"
      },
      "execution_count": null,
      "outputs": []
    },
    {
      "cell_type": "code",
      "source": [
        "arr = [10, 20, 30, 40]\n",
        "print(arr[0])  # Output: 10 (indeks pertama)\n",
        "print(arr[3])  # Output: 40 (indeks terakhir)"
      ],
      "metadata": {
        "colab": {
          "base_uri": "https://localhost:8080/"
        },
        "id": "GHWtWUHi_knC",
        "outputId": "dc142b45-7102-46d8-a7d9-8ab7258204a9"
      },
      "execution_count": null,
      "outputs": [
        {
          "output_type": "stream",
          "name": "stdout",
          "text": [
            "10\n",
            "40\n"
          ]
        }
      ]
    },
    {
      "cell_type": "markdown",
      "source": [
        "**PEMROSESAN SEKUENSIAL ARRAY**"
      ],
      "metadata": {
        "id": "fQEuwUc3_mrE"
      }
    },
    {
      "cell_type": "code",
      "source": [
        "arr = [10, 20, 30, 40, 50]\n",
        "for elemen in arr:\n",
        "    print(elemen)\n"
      ],
      "metadata": {
        "colab": {
          "base_uri": "https://localhost:8080/"
        },
        "id": "7ZE8ZrrE_qmV",
        "outputId": "b5093213-3273-445d-ff08-3c3005558e96"
      },
      "execution_count": null,
      "outputs": [
        {
          "output_type": "stream",
          "name": "stdout",
          "text": [
            "10\n",
            "20\n",
            "30\n",
            "40\n",
            "50\n"
          ]
        }
      ]
    },
    {
      "cell_type": "code",
      "source": [
        "total = 0\n",
        "for elemen in arr:\n",
        "    total += elemen\n",
        "print(total)  # Output: 150\n"
      ],
      "metadata": {
        "colab": {
          "base_uri": "https://localhost:8080/"
        },
        "id": "sWK3Hdb9_tzN",
        "outputId": "293b7916-7953-489c-93b8-37a8a1172900"
      },
      "execution_count": null,
      "outputs": [
        {
          "output_type": "stream",
          "name": "stdout",
          "text": [
            "150\n"
          ]
        }
      ]
    },
    {
      "cell_type": "markdown",
      "source": [
        "**SOAL NOMOR 1**"
      ],
      "metadata": {
        "id": "-f7mX-NIKnui"
      }
    },
    {
      "cell_type": "code",
      "source": [
        "arr = [30, 45, 10, 20, 12, 7, 19, 13, 17, 2, 10, 27, 5, 29]\n",
        "\n",
        "nilai_maks = max(arr)\n",
        "print(\"jadi rata rata nilai maksimum arr adalah\" , nilai_maks)\n",
        "\n",
        "nilai_min = min(arr)\n",
        "print(\"jadi nilai minimum arr adalah\" , nilai_min)\n",
        "\n",
        "penjumlahan = sum(arr)\n",
        "print(\"hasil penjumlahan seluruh elemen arr adalah\", penjumlahan)\n",
        "\n",
        "jumlah_arr = len(arr)\n",
        "print(\"jadi jumlah seluruh elemen arr adalah\" , jumlah_arr)\n",
        "\n",
        "rata_rata = sum(arr)/len(arr)\n",
        "print(\"jadi rata-rata seluruh elemen arr adalah\", rata_rata)"
      ],
      "metadata": {
        "id": "YinQ-5L4KtBK",
        "outputId": "4c4ec8c9-84fc-455d-9b59-7a26ad82da5c",
        "colab": {
          "base_uri": "https://localhost:8080/"
        }
      },
      "execution_count": null,
      "outputs": [
        {
          "output_type": "stream",
          "name": "stdout",
          "text": [
            "jadi rata rata nilai maksimum arr adalah 45\n",
            "jadi nilai minimum arr adalah 2\n",
            "hasil penjumlahan seluruh elemen arr adalah 246\n",
            "jadi jumlah seluruh elemen arr adalah 14\n",
            "jadi rata-rata seluruh elemen arr adalah 17.571428571428573\n"
          ]
        }
      ]
    },
    {
      "cell_type": "markdown",
      "source": [
        "**SOAL NOMOR 2**"
      ],
      "metadata": {
        "id": "u6FnZYR4eDpg"
      }
    },
    {
      "cell_type": "code",
      "source": [
        "#program untuk mencari nilai terbesar dari elemen array\n",
        "\n",
        "#masukkan elemen array T\n",
        "T1= [9,12,30,-1,0,4,-1,3,30,14]\n",
        "nilai_terbesar = max(T1)\n",
        "nilai_terkecil = min(T1)\n",
        "print(\"nilai terbesar dari elemen array T1 adalah:\", nilai_terbesar)\n",
        "print(\"nilai terkecil dari elemen array T1 adalah:\", nilai_terkecil)\n",
        "\n",
        "#masukkan elemen array T\n",
        "T2=[1,3,5,8,-12,90,3,5]\n",
        "nilai_terbesar =max(T2)\n",
        "nilai_terkecil =min(T2)\n",
        "print(\"nilai terbesar dari elemen array T2 adalah:\", nilai_terbesar)\n",
        "print(\"nilai terkecil dari elemen array T2 adalah:\", nilai_terkecil)"
      ],
      "metadata": {
        "id": "U8ttRxqteCVx",
        "outputId": "8d56b383-7f1c-4656-d3d6-537b378efa85",
        "colab": {
          "base_uri": "https://localhost:8080/"
        }
      },
      "execution_count": null,
      "outputs": [
        {
          "output_type": "stream",
          "name": "stdout",
          "text": [
            "nilai terbesar dari elemen array T1 adalah: 30\n",
            "nilai terkecil dari elemen array T1 adalah: -1\n",
            "nilai terbesar dari elemen array T2 adalah: 90\n",
            "nilai terkecil dari elemen array T2 adalah: -12\n"
          ]
        }
      ]
    }
  ]
}